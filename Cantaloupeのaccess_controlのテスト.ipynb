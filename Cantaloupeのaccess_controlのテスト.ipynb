{
  "nbformat": 4,
  "nbformat_minor": 0,
  "metadata": {
    "colab": {
      "private_outputs": true,
      "provenance": [],
      "authorship_tag": "ABX9TyPFhptdJZI3frISQbFhV39t",
      "include_colab_link": true
    },
    "kernelspec": {
      "name": "python3",
      "display_name": "Python 3"
    },
    "language_info": {
      "name": "python"
    }
  },
  "cells": [
    {
      "cell_type": "markdown",
      "metadata": {
        "id": "view-in-github",
        "colab_type": "text"
      },
      "source": [
        "<a href=\"https://colab.research.google.com/github/nakamura196/000_tools/blob/main/Cantaloupe%E3%81%AEaccess_control%E3%81%AE%E3%83%86%E3%82%B9%E3%83%88.ipynb\" target=\"_parent\"><img src=\"https://colab.research.google.com/assets/colab-badge.svg\" alt=\"Open In Colab\"/></a>"
      ]
    },
    {
      "cell_type": "markdown",
      "source": [
        "# Cantaloupeのaccess controlのテスト"
      ],
      "metadata": {
        "id": "-nvARp5vZMLo"
      }
    },
    {
      "cell_type": "code",
      "source": [
        "import requests\n",
        "from PIL import Image\n",
        "from io import BytesIO\n",
        "import matplotlib.pyplot as plt\n",
        "\n",
        "def show_img(r_get):\n",
        "\n",
        "  # レスポンスが成功した場合（HTTPステータスコード200）、画像を表示\n",
        "  if r_get.status_code == 200:\n",
        "      # BytesIOを使用してバイナリデータをメモリ内のストリームとして読み込む\n",
        "      img_data = BytesIO(r_get.content)\n",
        "\n",
        "      # PIL.Imageを使用して画像を開く\n",
        "      img = Image.open(img_data)\n",
        "\n",
        "      # matplotlib.pyplotを使用して画像を表示\n",
        "      plt.imshow(img)\n",
        "      plt.axis('off')  # 軸を非表示にする\n",
        "      plt.show()\n",
        "  else:\n",
        "      print(f\"Failed to retrieve image. HTTP Status code: {r_get.status_code}\")"
      ],
      "metadata": {
        "id": "5gnz6IsIYv0M"
      },
      "execution_count": null,
      "outputs": []
    },
    {
      "cell_type": "markdown",
      "source": [
        "## tokenあり"
      ],
      "metadata": {
        "id": "JnOlrX-IZcrw"
      }
    },
    {
      "cell_type": "code",
      "source": [
        "url = \"https://cantaloupe.aws.ldas.jp/iiif/3/converted.tif/full/200,/0/default.jpg\"\n",
        "headers = {'Authorization': 'Bearer test'}\n",
        "\n",
        "# URLから画像を取得\n",
        "r_get = requests.get(url, headers=headers)\n",
        "\n",
        "show_img(r_get)"
      ],
      "metadata": {
        "id": "S13rdRneY5gw"
      },
      "execution_count": null,
      "outputs": []
    },
    {
      "cell_type": "markdown",
      "source": [
        "## tokenなし"
      ],
      "metadata": {
        "id": "-lcwvqbYZgc-"
      }
    },
    {
      "cell_type": "code",
      "source": [
        "url = \"https://cantaloupe.aws.ldas.jp/iiif/3/converted.tif/full/200,/0/default.jpg\"\n",
        "headers = {}\n",
        "\n",
        "# URLから画像を取得\n",
        "r_get = requests.get(url, headers=headers)\n",
        "\n",
        "show_img(r_get)"
      ],
      "metadata": {
        "id": "-VmbDMbrYd8o"
      },
      "execution_count": null,
      "outputs": []
    }
  ]
}