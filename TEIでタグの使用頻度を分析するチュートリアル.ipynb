{
  "nbformat": 4,
  "nbformat_minor": 0,
  "metadata": {
    "colab": {
      "private_outputs": true,
      "provenance": [],
      "authorship_tag": "ABX9TyPLzj5CB95yO2UNw1graIyJ",
      "include_colab_link": true
    },
    "kernelspec": {
      "name": "python3",
      "display_name": "Python 3"
    },
    "language_info": {
      "name": "python"
    }
  },
  "cells": [
    {
      "cell_type": "markdown",
      "metadata": {
        "id": "view-in-github",
        "colab_type": "text"
      },
      "source": [
        "<a href=\"https://colab.research.google.com/github/nakamura196/000_tools/blob/main/TEI%E3%81%A7%E3%82%BF%E3%82%B0%E3%81%AE%E4%BD%BF%E7%94%A8%E9%A0%BB%E5%BA%A6%E3%82%92%E5%88%86%E6%9E%90%E3%81%99%E3%82%8B%E3%83%81%E3%83%A5%E3%83%BC%E3%83%88%E3%83%AA%E3%82%A2%E3%83%AB.ipynb\" target=\"_parent\"><img src=\"https://colab.research.google.com/assets/colab-badge.svg\" alt=\"Open In Colab\"/></a>"
      ]
    },
    {
      "cell_type": "markdown",
      "source": [
        "# TEIでタグの使用頻度を分析するチュートリアル"
      ],
      "metadata": {
        "id": "EV7Tt6kjhuRi"
      }
    },
    {
      "cell_type": "markdown",
      "source": [
        "## インストール"
      ],
      "metadata": {
        "id": "8XDBNBWYhcci"
      }
    },
    {
      "cell_type": "code",
      "execution_count": null,
      "metadata": {
        "id": "SDGWCCiWbnvK"
      },
      "outputs": [],
      "source": [
        "!pip install git+https://github.com/nakamura196/gdb-utils.git\n",
        "from gdb_utils.core import *"
      ]
    },
    {
      "cell_type": "markdown",
      "source": [
        "## 使い方"
      ],
      "metadata": {
        "id": "vBgOdJb6hiIO"
      }
    },
    {
      "cell_type": "code",
      "source": [
        "client = TeiUtils()"
      ],
      "metadata": {
        "id": "cY_Mfx4kg-HV"
      },
      "execution_count": null,
      "outputs": []
    },
    {
      "cell_type": "markdown",
      "source": [
        "## ダウンロード"
      ],
      "metadata": {
        "id": "WQ515FiDhlGh"
      }
    },
    {
      "cell_type": "code",
      "source": [
        "url = \"https://utda.github.io/goethe/data/xml/goethe.xml\"\n",
        "path = \"data/goethe.xml\"\n",
        "client.download(url, path)"
      ],
      "metadata": {
        "id": "GLtZaxEwhBVD"
      },
      "execution_count": null,
      "outputs": []
    },
    {
      "cell_type": "markdown",
      "source": [
        "## 分析"
      ],
      "metadata": {
        "id": "APvdaF3Ehmv2"
      }
    },
    {
      "cell_type": "code",
      "source": [
        "client.get_tag_freq(path)"
      ],
      "metadata": {
        "id": "503AevJnhVyp"
      },
      "execution_count": null,
      "outputs": []
    },
    {
      "cell_type": "markdown",
      "source": [
        "### 頻度の降順で表示"
      ],
      "metadata": {
        "id": "pcP8Ra6uhodv"
      }
    },
    {
      "cell_type": "code",
      "source": [
        "client.df"
      ],
      "metadata": {
        "id": "xwg0-dHVhV8t"
      },
      "execution_count": null,
      "outputs": []
    },
    {
      "cell_type": "markdown",
      "source": [
        "### 名前の昇順で表示"
      ],
      "metadata": {
        "id": "2CajTQybh6ju"
      }
    },
    {
      "cell_type": "code",
      "source": [
        "client.df_tag"
      ],
      "metadata": {
        "id": "DtPBsWOIhXO6"
      },
      "execution_count": null,
      "outputs": []
    }
  ]
}