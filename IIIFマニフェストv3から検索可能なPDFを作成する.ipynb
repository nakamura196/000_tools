{
  "nbformat": 4,
  "nbformat_minor": 0,
  "metadata": {
    "colab": {
      "provenance": [],
      "private_outputs": true,
      "include_colab_link": true
    },
    "kernelspec": {
      "name": "python3",
      "display_name": "Python 3"
    },
    "language_info": {
      "name": "python"
    }
  },
  "cells": [
    {
      "cell_type": "markdown",
      "metadata": {
        "id": "view-in-github",
        "colab_type": "text"
      },
      "source": [
        "<a href=\"https://colab.research.google.com/github/nakamura196/000_tools/blob/main/IIIF%E3%83%9E%E3%83%8B%E3%83%95%E3%82%A7%E3%82%B9%E3%83%88v3%E3%81%8B%E3%82%89%E6%A4%9C%E7%B4%A2%E5%8F%AF%E8%83%BD%E3%81%AAPDF%E3%82%92%E4%BD%9C%E6%88%90%E3%81%99%E3%82%8B.ipynb\" target=\"_parent\"><img src=\"https://colab.research.google.com/assets/colab-badge.svg\" alt=\"Open In Colab\"/></a>"
      ]
    },
    {
      "cell_type": "markdown",
      "source": [
        "# IIIFマニフェストv3から検索可能なPDFを作成する\n",
        "\n",
        "テキストデータをアノテーションデータとして持つIIIFマニフェスト（v3）から、検索可能なPDFを作成します。\n",
        "\n",
        "IIIFマニフェスト（v3）の例として、以下があります。\n",
        "\n",
        "- https://d1fasenpql7fi9.cloudfront.net/v1/manifest/3437686.json"
      ],
      "metadata": {
        "id": "24G8hhZWUUfO"
      }
    },
    {
      "cell_type": "markdown",
      "source": [
        "## 更新履歴\n",
        "- 2023-07-25: アップロードの実行例を追加しました。また不具合を修正しました。"
      ],
      "metadata": {
        "id": "FGT7tLWQVn2d"
      }
    },
    {
      "cell_type": "code",
      "execution_count": null,
      "metadata": {
        "id": "5cU3rkmpJ1jB",
        "cellView": "form"
      },
      "outputs": [],
      "source": [
        "#@title 準備\n",
        "!pip install ocr-iiif-tools==0.0.12\n",
        "from ocr_iiif_tools.pdf import PdfClient\n",
        "client = PdfClient()"
      ]
    },
    {
      "cell_type": "markdown",
      "source": [
        "上記を実行後に、「restart runtime」のボタンが表示された場合には、ボタンを押して、再度セルを実行してください。"
      ],
      "metadata": {
        "id": "HNcH5iRKUsNT"
      }
    },
    {
      "cell_type": "markdown",
      "source": [
        "## 実行"
      ],
      "metadata": {
        "id": "FCz5-FOiVmCB"
      }
    },
    {
      "cell_type": "markdown",
      "source": [
        "サンプルのため、はじめの5画像に限定しています。"
      ],
      "metadata": {
        "id": "eg7tau1oRnfw"
      }
    },
    {
      "cell_type": "markdown",
      "source": [
        "### 基本"
      ],
      "metadata": {
        "id": "jsnlqqy1WOOQ"
      }
    },
    {
      "cell_type": "code",
      "source": [
        "output = \"output.pdf\"\n",
        "url = \"https://d1fasenpql7fi9.cloudfront.net/v1/manifest/3437686.json\"\n",
        "client.convert_iiif2pdf(output, iiif_manifest_url=url, canvas_range=[0, 5])"
      ],
      "metadata": {
        "id": "dEgdO98DWP_i"
      },
      "execution_count": null,
      "outputs": []
    },
    {
      "cell_type": "code",
      "source": [
        "#@title アップロード\n",
        "import os\n",
        "from google.colab import files\n",
        "\n",
        "input_path = \"/tmp/test\"\n",
        "\n",
        "# 既存ファイルの削除\n",
        "!rm {input_path}\n",
        "\n",
        "# フォルダの作成\n",
        "os.makedirs(os.path.dirname(input_path), exist_ok=True)\n",
        "\n",
        "uploaded = files.upload()\n",
        "filename = next(iter(uploaded))\n",
        "!mv {filename} {input_path}\n",
        "\n",
        "# input_path = \"/content/manifest.json\" #@param {type:\"string\"}\n",
        "output = \"output_uploaded.pdf\" #@param {type:\"string\"}\n",
        "\n",
        "client.convert_iiif2pdf(output, iiif_manifest_path=input_path)"
      ],
      "metadata": {
        "cellView": "form",
        "id": "kgsYv9k9nLa7"
      },
      "execution_count": null,
      "outputs": []
    },
    {
      "cell_type": "markdown",
      "source": [
        "### 応用\n",
        "\n",
        "- 次の行の先頭5文字を前の行の末尾に追加することで、改行による分割で検索できない問題を解決します。\n",
        "- 確認のため、本文テキストの色を赤で表示します。\n",
        "- はじめの10ページを対象にします。"
      ],
      "metadata": {
        "id": "3gUnNpJ7WXV4"
      }
    },
    {
      "cell_type": "code",
      "source": [
        "#@title 設定\n",
        "compression_quality = 10 #@param {type:\"integer\"}\n",
        "canvas_range_end = 10 #@param {type:\"integer\"}\n",
        "post_text_size = 5 #@param {type:\"integer\"}\n",
        "default_main_color = \"red\"  #@param {type:\"string\"}\n",
        "default_main_alpha = 0.5 #@param {type:\"number\"}"
      ],
      "metadata": {
        "cellView": "form",
        "id": "1JGzw6QtVQND"
      },
      "execution_count": null,
      "outputs": []
    },
    {
      "cell_type": "code",
      "source": [
        "output = \"output_advanced.pdf\"\n",
        "url = \"https://d1fasenpql7fi9.cloudfront.net/v1/manifest/3437686.json\"\n",
        "client.convert_iiif2pdf(output, iiif_manifest_url=url, canvas_range=[0, canvas_range_end], post_text_size=post_text_size, default_main_color=default_main_color, default_main_alpha=default_main_alpha, compress_quality=compression_quality)"
      ],
      "metadata": {
        "id": "IatAXYwlKxUn"
      },
      "execution_count": null,
      "outputs": []
    }
  ]
}