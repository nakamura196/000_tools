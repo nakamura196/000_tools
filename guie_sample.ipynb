{
  "nbformat": 4,
  "nbformat_minor": 0,
  "metadata": {
    "colab": {
      "private_outputs": true,
      "provenance": [],
      "history_visible": true,
      "gpuType": "T4",
      "authorship_tag": "ABX9TyP4/dizfV0fQjjgqhNqajpO",
      "include_colab_link": true
    },
    "kernelspec": {
      "name": "python3",
      "display_name": "Python 3"
    },
    "language_info": {
      "name": "python"
    },
    "accelerator": "GPU"
  },
  "cells": [
    {
      "cell_type": "markdown",
      "metadata": {
        "id": "view-in-github",
        "colab_type": "text"
      },
      "source": [
        "<a href=\"https://colab.research.google.com/github/nakamura196/000_tools/blob/main/guie_sample.ipynb\" target=\"_parent\"><img src=\"https://colab.research.google.com/assets/colab-badge.svg\" alt=\"Open In Colab\"/></a>"
      ]
    },
    {
      "cell_type": "markdown",
      "source": [
        "# GUIE（Google Universal Image Embedding）の学習済みモデルを使用して類似画像検索を行うサンプル\n",
        "\n",
        "本プログラムの実行にあたり、以下のモデルを使用しています。\n",
        "\n",
        "https://www.kaggle.com/code/w3579628328/2nd-place-solution"
      ],
      "metadata": {
        "id": "vrkzr8um8m16"
      }
    },
    {
      "cell_type": "markdown",
      "source": [
        "## ライブラリのインストール"
      ],
      "metadata": {
        "id": "pWrlczUm8sXB"
      }
    },
    {
      "cell_type": "code",
      "source": [
        "!pip install -U torchvision==0.12.0\n",
        "!pip install open_clip_torch"
      ],
      "metadata": {
        "id": "cQ-nYjcu8eFV"
      },
      "execution_count": null,
      "outputs": []
    },
    {
      "cell_type": "code",
      "source": [
        "import os\n",
        "import requests\n",
        "import torch\n",
        "import torchvision\n",
        "from torchvision import transforms\n",
        "import numpy as np\n",
        "from PIL import Image\n",
        "from glob import glob\n",
        "from tqdm import tqdm\n",
        "from google.colab import userdata\n",
        "import json\n",
        "from sklearn.metrics.pairwise import cosine_similarity\n",
        "import matplotlib.pyplot as plt"
      ],
      "metadata": {
        "id": "_FM810S08Syv"
      },
      "execution_count": null,
      "outputs": []
    },
    {
      "cell_type": "code",
      "source": [
        "print(torch.__version__)\n",
        "print(torchvision.__version__)"
      ],
      "metadata": {
        "id": "Lrd-0oY58zV1"
      },
      "execution_count": null,
      "outputs": []
    },
    {
      "cell_type": "markdown",
      "source": [
        "## Kaggleからモデルをダウンロードする"
      ],
      "metadata": {
        "id": "OF0ShYDm9vj_"
      }
    },
    {
      "cell_type": "code",
      "source": [
        "if not os.path.exists(\"/content/model\"):\n",
        "\n",
        "  KAGGLE_USERNAME = userdata.get('KAGGLE_USERNAME')\n",
        "  KAGGLE_KEY = userdata.get('KAGGLE_KEY')\n",
        "\n",
        "  kaggle_json = {\n",
        "      \"username\": KAGGLE_USERNAME,\n",
        "      \"key\": KAGGLE_KEY\n",
        "  }\n",
        "\n",
        "  with open(\"/content/kaggle.json\", \"w\") as f:\n",
        "      json.dump(kaggle_json, f)\n",
        "\n",
        "  !mkdir -p ~/.kaggle\n",
        "  !mv /content/kaggle.json ~/.kaggle/\n",
        "  !chmod 600 ~/.kaggle/kaggle.json  # セキュリティのためにファイルの権限を設定\n",
        "\n",
        "  !kaggle kernels output w3579628328/2nd-place-solution -p \"/content/model\""
      ],
      "metadata": {
        "id": "9s0YPeVv9dBY"
      },
      "execution_count": null,
      "outputs": []
    },
    {
      "cell_type": "markdown",
      "source": [
        "## 画像データの準備"
      ],
      "metadata": {
        "id": "Vi524CJx9lLR"
      }
    },
    {
      "cell_type": "code",
      "source": [
        "rows = [\n",
        "    {\n",
        "        \"id\": \"1\",\n",
        "        \"url\": \"https://dl.ndl.go.jp/api/iiif/1170851/R0000062/1004,2122,1389,1889/640,/0/default.jpg\"\n",
        "    },\n",
        "    {\n",
        "        \"id\": \"2\",\n",
        "        \"url\": \"https://dl.ndl.go.jp/api/iiif/1170851/R0000062/1037,466,2067,1555/640,/0/default.jpg\"\n",
        "    },\n",
        "    {\n",
        "        \"id\": \"3\",\n",
        "        \"url\": \"https://dl.ndl.go.jp/api/iiif/2551476/R0000002/410,897,5574,3807/640,/0/default.jpg\"\n",
        "    }\n",
        "]"
      ],
      "metadata": {
        "id": "sL3q5A0a7ki_"
      },
      "execution_count": null,
      "outputs": []
    },
    {
      "cell_type": "code",
      "source": [
        "for row in rows:\n",
        "  path = f\"/content/input/images/{row['id']}.jpg\"\n",
        "\n",
        "  if not os.path.exists(path):\n",
        "\n",
        "    os.makedirs(os.path.dirname(path), exist_ok=True)\n",
        "\n",
        "    response = requests.get(row['url'])\n",
        "    with open(path, 'wb') as f:\n",
        "      f.write(response.content)\n",
        "\n",
        "  img = Image.open(path)\n",
        "\n",
        "  # 画像を表示\n",
        "  plt.figure()\n",
        "  plt.title(f\"Image ID: {row['id']}\")\n",
        "  plt.imshow(img)\n",
        "  plt.axis('off')\n",
        "  plt.show()"
      ],
      "metadata": {
        "id": "q-i73ZEl8hDE"
      },
      "execution_count": null,
      "outputs": []
    },
    {
      "cell_type": "markdown",
      "source": [
        "## ベクトルの作成"
      ],
      "metadata": {
        "id": "jPIGfNx7-AIA"
      }
    },
    {
      "cell_type": "code",
      "source": [
        "# モデルの読み込み\n",
        "model_path = \"/content/model/saved_model.pt\"\n",
        "embedding_fn = torch.jit.load(model_path).to('cuda').eval()"
      ],
      "metadata": {
        "id": "Xp-BDZMU1bwp"
      },
      "execution_count": null,
      "outputs": []
    },
    {
      "cell_type": "code",
      "source": [
        "def convert_and_save(path, opath):\n",
        "    if os.path.exists(opath):\n",
        "        return\n",
        "\n",
        "    os.makedirs(os.path.dirname(opath), exist_ok=True)\n",
        "\n",
        "    # 画像の読み込み\n",
        "    org_image = Image.open(path).convert(\"RGB\")\n",
        "\n",
        "    # resize to 224 x 224\n",
        "    resize = transforms.Resize((224, 224))\n",
        "    org_image = resize(org_image)\n",
        "\n",
        "    # 画像のテンソルへの変換\n",
        "    convert_to_tensor = transforms.Compose([transforms.PILToTensor()])\n",
        "    input_tensor = convert_to_tensor(org_image)\n",
        "    input_batch = input_tensor.unsqueeze(0)\n",
        "\n",
        "    # GPUへの移動\n",
        "    input_batch_gpu = input_batch.to('cuda')\n",
        "\n",
        "    # 推論実行\n",
        "    with torch.no_grad():\n",
        "        embedding = embedding_fn(input_batch_gpu).cpu().data.numpy()\n",
        "\n",
        "\n",
        "\n",
        "    # 結果の保存\n",
        "    np.save(opath, embedding)"
      ],
      "metadata": {
        "id": "4WNLcg5DzZQH"
      },
      "execution_count": null,
      "outputs": []
    },
    {
      "cell_type": "code",
      "source": [
        "files = glob(\"/content/input/images/*.jpg\")\n",
        "\n",
        "for file in tqdm(files):\n",
        "  filename = os.path.basename(file).replace(\".jpg\", \"\")\n",
        "  output_path = \"/content/output/embeddings/\" + filename + \".npy\"\n",
        "  convert_and_save(file, output_path)"
      ],
      "metadata": {
        "id": "uZn2101l1c7i"
      },
      "execution_count": null,
      "outputs": []
    },
    {
      "cell_type": "markdown",
      "source": [
        "## 類似画像検索"
      ],
      "metadata": {
        "id": "ELA7YECC_W70"
      }
    },
    {
      "cell_type": "code",
      "source": [
        "# Load all embeddings into memory\n",
        "embeddings = []\n",
        "filenames = []\n",
        "\n",
        "for file in glob(\"/content/output/embeddings/*.npy\"):\n",
        "    embedding = np.load(file)\n",
        "    embeddings.append(embedding)\n",
        "    filenames.append(os.path.basename(file))\n",
        "\n",
        "embeddings = np.vstack(embeddings)  # Stack all embeddings into a single array\n",
        "\n",
        "def find_similar_images(query_embedding, embeddings, filenames, top_k=5):\n",
        "    similarities = cosine_similarity(query_embedding, embeddings)\n",
        "    similarities = similarities.flatten()\n",
        "\n",
        "    # Sort by similarity score in descending order\n",
        "    indices = np.argsort(-similarities)\n",
        "\n",
        "    # Get the top K similar images (excluding the query image itself)\n",
        "    similar_filenames = [filenames[idx] for idx in indices[:top_k] if similarities[idx] < 1.0]\n",
        "    similar_scores = [similarities[idx] for idx in indices[:top_k] if similarities[idx] < 1.0]\n",
        "\n",
        "    return similar_filenames, similar_scores\n",
        "\n",
        "def display_images(query_image_path, similar_images, scores):\n",
        "    # Load the query image\n",
        "    query_image = Image.open(query_image_path)\n",
        "\n",
        "    # Display the query image\n",
        "    plt.figure(figsize=(15, 5))\n",
        "    plt.subplot(1, len(similar_images) + 1, 1)\n",
        "    plt.imshow(query_image)\n",
        "    plt.title(\"Query Image\")\n",
        "    plt.axis('off')\n",
        "\n",
        "    # Display similar images\n",
        "    for i, (image, score) in enumerate(zip(similar_images, scores)):\n",
        "        image_path = f\"input/images/{image.replace('.npy', '.jpg')}\"\n",
        "        similar_image = Image.open(image_path)\n",
        "        plt.subplot(1, len(similar_images) + 1, i + 2)\n",
        "        plt.imshow(similar_image)\n",
        "        plt.title(f\"Score: {score:.4f}\")\n",
        "        plt.axis('off')\n",
        "\n",
        "    plt.show()\n",
        "\n",
        "# Iterate over each image to find and display similar images\n",
        "for query_file in filenames:\n",
        "    query_image_path = f\"input/images/{query_file.replace('.npy', '.jpg')}\"\n",
        "    query_embedding = np.load(f\"output/embeddings/{query_file}\")\n",
        "\n",
        "    # Reshape query embedding to match dimensions\n",
        "    query_embedding = query_embedding.reshape(1, -1)\n",
        "\n",
        "    similar_images, scores = find_similar_images(query_embedding, embeddings, filenames)\n",
        "\n",
        "    print(f\"Top similar images for {query_file}:\")\n",
        "    for image, score in zip(similar_images, scores):\n",
        "        print(f\"Image: {image}, Similarity Score: {score}\")\n",
        "\n",
        "    # Display the query and similar images\n",
        "    display_images(query_image_path, similar_images, scores)"
      ],
      "metadata": {
        "id": "ZtkSQFjs2maj"
      },
      "execution_count": null,
      "outputs": []
    }
  ]
}