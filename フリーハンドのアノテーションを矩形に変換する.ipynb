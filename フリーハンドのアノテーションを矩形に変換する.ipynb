{
  "nbformat": 4,
  "nbformat_minor": 0,
  "metadata": {
    "colab": {
      "private_outputs": true,
      "provenance": [],
      "authorship_tag": "ABX9TyNNUdsMi7pedrIT08RMfaj/",
      "include_colab_link": true
    },
    "kernelspec": {
      "name": "python3",
      "display_name": "Python 3"
    },
    "language_info": {
      "name": "python"
    }
  },
  "cells": [
    {
      "cell_type": "markdown",
      "metadata": {
        "id": "view-in-github",
        "colab_type": "text"
      },
      "source": [
        "<a href=\"https://colab.research.google.com/github/nakamura196/000_tools/blob/main/%E3%83%95%E3%83%AA%E3%83%BC%E3%83%8F%E3%83%B3%E3%83%89%E3%81%AE%E3%82%A2%E3%83%8E%E3%83%86%E3%83%BC%E3%82%B7%E3%83%A7%E3%83%B3%E3%82%92%E7%9F%A9%E5%BD%A2%E3%81%AB%E5%A4%89%E6%8F%9B%E3%81%99%E3%82%8B.ipynb\" target=\"_parent\"><img src=\"https://colab.research.google.com/assets/colab-badge.svg\" alt=\"Open In Colab\"/></a>"
      ]
    },
    {
      "cell_type": "markdown",
      "source": [
        "以下のIIIFマニフェストファイルを対象にします。\n",
        "\n",
        "https://gist.githubusercontent.com/nakamura196/ffdb55b1c613c3433c7d2a7d0e8d4128/raw/60711988f99a28eeba732c44b6b3b2991277f5f3/manifest.json\n",
        "\n",
        "上記のマニフェストをMiradorでロードすると、以下のように表示されます。\n",
        "\n",
        "https://mirador.cultural.jp/?manifest=https://gist.githubusercontent.com/nakamura196/ffdb55b1c613c3433c7d2a7d0e8d4128/raw/60711988f99a28eeba732c44b6b3b2991277f5f3/manifest.json&annotationState=1\n",
        "\n",
        "上記のマニフェストに含まれるフリーハンドのアノテーションを、矩形のアノテーションに変換します。"
      ],
      "metadata": {
        "id": "TyDSpZrct7E8"
      }
    },
    {
      "cell_type": "code",
      "source": [
        "#@title セットアップ（Mirador関係）\n",
        "\n",
        "from google.colab import output\n",
        "from pathlib import Path\n",
        "\n",
        "CONTENT_DIR = str(Path(\"/content\"))\n",
        "%cd {CONTENT_DIR}\n",
        "\n",
        "DOCS_DIR = f\"{CONTENT_DIR}/docs\"\n",
        "\n",
        "PORT = 8001\n",
        "!mkdir -p {DOCS_DIR}\n",
        "%cd {DOCS_DIR}\n",
        "!nohup python3 -m http.server $PORT > server.log 2>&1 &\n",
        "\n",
        "if not Path(\"index.html\").exists():\n",
        "  !wget https://nakamura196.github.io/mirador-integration-textoverlay/index.html -O index.html\n",
        "  !mkdir -p dist\n",
        "  !wget https://nakamura196.github.io/mirador-integration-textoverlay/dist/main.js -O dist/main.js"
      ],
      "metadata": {
        "cellView": "form",
        "id": "sALuvoeHuZQW"
      },
      "execution_count": null,
      "outputs": []
    },
    {
      "cell_type": "markdown",
      "source": [
        "# ファイルのダウンロード\n",
        "\n",
        "先ほど挙げたマニフェストファイルをダウンロードします。また、ローカルサーバ上で閲覧してみます。"
      ],
      "metadata": {
        "id": "tvpJbpiiwBXN"
      }
    },
    {
      "cell_type": "code",
      "source": [
        "%cd {DOCS_DIR}\n",
        "\n",
        "!wget https://gist.githubusercontent.com/nakamura196/ffdb55b1c613c3433c7d2a7d0e8d4128/raw/60711988f99a28eeba732c44b6b3b2991277f5f3/manifest.json\n",
        "\n",
        "path = f'/?manifest=manifest.json&annotationState=1'\n",
        "output.serve_kernel_port_as_window(PORT, path=path)"
      ],
      "metadata": {
        "id": "awLQzZUJuqo8"
      },
      "execution_count": null,
      "outputs": []
    },
    {
      "cell_type": "markdown",
      "source": [
        "# 変換ライブラリのインストール"
      ],
      "metadata": {
        "id": "eE5OePIAwrRt"
      }
    },
    {
      "cell_type": "code",
      "source": [
        "!pip install ldas\n",
        "from ldas.svg import Svg"
      ],
      "metadata": {
        "id": "O7mXn6hwwkFD"
      },
      "execution_count": null,
      "outputs": []
    },
    {
      "cell_type": "markdown",
      "source": [
        "# 変換の実行\n",
        "\n",
        "ダウンロードしたマニフェストファイルをインプットとして、フリーハンドのアノテーションを矩形に変換したアノテーションを持つマニフェストファイルに変換します。"
      ],
      "metadata": {
        "id": "GXPwWij-wNAQ"
      }
    },
    {
      "cell_type": "code",
      "source": [
        "path = f\"{DOCS_DIR}/manifest.json\"\n",
        "opath = f\"{DOCS_DIR}/manifest_rect.json\"\n",
        "\n",
        "r = Svg()\n",
        "r.convert(path, opath)"
      ],
      "metadata": {
        "id": "GEWJB2mNu6yA"
      },
      "execution_count": null,
      "outputs": []
    },
    {
      "cell_type": "markdown",
      "source": [
        "# 結果の確認"
      ],
      "metadata": {
        "id": "O_ypwJoewbXX"
      }
    },
    {
      "cell_type": "code",
      "source": [
        "path = f'/?manifest=manifest_rect.json&annotationState=1'\n",
        "output.serve_kernel_port_as_window(PORT, path=path)"
      ],
      "metadata": {
        "id": "qLifkWrcwavK"
      },
      "execution_count": null,
      "outputs": []
    }
  ]
}