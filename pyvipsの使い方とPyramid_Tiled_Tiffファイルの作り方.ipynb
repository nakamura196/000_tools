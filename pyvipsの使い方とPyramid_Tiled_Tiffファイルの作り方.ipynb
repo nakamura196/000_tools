{
  "nbformat": 4,
  "nbformat_minor": 0,
  "metadata": {
    "colab": {
      "private_outputs": true,
      "provenance": [],
      "authorship_tag": "ABX9TyOBblMHj187UGL8YWWR+gp2",
      "include_colab_link": true
    },
    "kernelspec": {
      "name": "python3",
      "display_name": "Python 3"
    },
    "language_info": {
      "name": "python"
    }
  },
  "cells": [
    {
      "cell_type": "markdown",
      "metadata": {
        "id": "view-in-github",
        "colab_type": "text"
      },
      "source": [
        "<a href=\"https://colab.research.google.com/github/nakamura196/000_tools/blob/main/pyvips%E3%81%AE%E4%BD%BF%E3%81%84%E6%96%B9%E3%81%A8Pyramid_Tiled_Tiff%E3%83%95%E3%82%A1%E3%82%A4%E3%83%AB%E3%81%AE%E4%BD%9C%E3%82%8A%E6%96%B9.ipynb\" target=\"_parent\"><img src=\"https://colab.research.google.com/assets/colab-badge.svg\" alt=\"Open In Colab\"/></a>"
      ]
    },
    {
      "cell_type": "markdown",
      "source": [
        "# pyvipsの使い方とPyramid Tiled Tiffファイルの作り方"
      ],
      "metadata": {
        "id": "Wz6iLADez3C9"
      }
    },
    {
      "cell_type": "markdown",
      "source": [
        "## 準備"
      ],
      "metadata": {
        "id": "esQfG4fv5Q_0"
      }
    },
    {
      "cell_type": "code",
      "source": [
        "!sudo apt-get update\n",
        "!sudo apt-get install  -y libvips libvips-dev"
      ],
      "metadata": {
        "id": "vgQZ3uTEyhCb"
      },
      "execution_count": null,
      "outputs": []
    },
    {
      "cell_type": "code",
      "execution_count": null,
      "metadata": {
        "id": "mWI6jQlkySpH"
      },
      "outputs": [],
      "source": [
        "!pip install pyvips"
      ]
    },
    {
      "cell_type": "markdown",
      "source": [
        "## 画像の取得\n",
        "\n",
        "このノートブックの初期値として、「国立国会図書館」所蔵の『和泉国絵図』を利用させていただきます。\n",
        "\n",
        "https://dl.ndl.go.jp/info:ndljp/pid/1286201"
      ],
      "metadata": {
        "id": "YOVUPF7p0w-R"
      }
    },
    {
      "cell_type": "code",
      "source": [
        "# ウェブから取得\n",
        "from urllib import request\n",
        "url = \"https://www.dl.ndl.go.jp/api/iiif/1286201/R0000001/full/full/0/default.jpg\"\n",
        "filename = \"default.jpg\"\n",
        "request.urlretrieve(url, filename)\n",
        "\n",
        "# ローカルからアップロード\n",
        "'''\n",
        "from google.colab import files\n",
        "uploaded = files.upload()\n",
        "filename = next(iter(uploaded))\n",
        "'''\n",
        "pass"
      ],
      "metadata": {
        "id": "GElGXjT6y0mM"
      },
      "execution_count": null,
      "outputs": []
    },
    {
      "cell_type": "code",
      "source": [
        "from google.colab import files\n",
        "uploaded = files.upload()\n",
        "filename = next(iter(uploaded))"
      ],
      "metadata": {
        "id": "83fyqddUL4sW"
      },
      "execution_count": null,
      "outputs": []
    },
    {
      "cell_type": "markdown",
      "source": [
        "## 変換とダウンロード"
      ],
      "metadata": {
        "id": "eqr_ruie0y3u"
      }
    },
    {
      "cell_type": "code",
      "source": [
        "import pyvips\n",
        "\n",
        "output_path = \"converted.tif\"\n",
        "\n",
        "ins = pyvips.Image.new_from_file(filename)\n",
        "ins.tiffsave(output_path,\n",
        "    tile=True,\n",
        "    compression='jpeg',\n",
        "    pyramid=True,\n",
        "    tile_width=256,\n",
        "    tile_height=256)\n",
        "\n",
        "from google.colab import files\n",
        "files.download(output_path)"
      ],
      "metadata": {
        "id": "Bb1fNmOgyXuA"
      },
      "execution_count": null,
      "outputs": []
    },
    {
      "cell_type": "markdown",
      "source": [
        "# 参考"
      ],
      "metadata": {
        "id": "Kdyyg2neNHi-"
      }
    },
    {
      "cell_type": "code",
      "source": [
        "!apt install imagemagick"
      ],
      "metadata": {
        "id": "8WfSrSRdNK6J"
      },
      "execution_count": null,
      "outputs": []
    },
    {
      "cell_type": "code",
      "source": [
        "output_path2 = \"converted2.tif\"\n",
        "!convert {filename} -define tiff:tile-geometry=256x256 -compress jpeg 'ptif:{output_path2}'"
      ],
      "metadata": {
        "id": "bFmTcPpJNIxi"
      },
      "execution_count": null,
      "outputs": []
    }
  ]
}