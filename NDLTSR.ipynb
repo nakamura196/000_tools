{
  "nbformat": 4,
  "nbformat_minor": 0,
  "metadata": {
    "colab": {
      "private_outputs": true,
      "provenance": [],
      "gpuType": "T4",
      "include_colab_link": true
    },
    "kernelspec": {
      "name": "python3",
      "display_name": "Python 3"
    },
    "language_info": {
      "name": "python"
    },
    "accelerator": "GPU"
  },
  "cells": [
    {
      "cell_type": "markdown",
      "metadata": {
        "id": "view-in-github",
        "colab_type": "text"
      },
      "source": [
        "<a href=\"https://colab.research.google.com/github/nakamura196/000_tools/blob/main/NDLTSR.ipynb\" target=\"_parent\"><img src=\"https://colab.research.google.com/assets/colab-badge.svg\" alt=\"Open In Colab\"/></a>"
      ]
    },
    {
      "cell_type": "markdown",
      "source": [
        "# NDLTSR (NDL Table Structure Recognition)\n",
        "\n",
        "「資料画像に含まれる表の構造を認識するプログラム」を試すノートブックです。\n",
        "\n",
        "https://github.com/ndl-lab/ndltsr"
      ],
      "metadata": {
        "id": "pQhUry_New-6"
      }
    },
    {
      "cell_type": "markdown",
      "source": [
        "## セットアップ"
      ],
      "metadata": {
        "id": "Lb1JTQEheMki"
      }
    },
    {
      "cell_type": "code",
      "source": [
        "!pip install fastapi\n",
        "!pip install uvicorn\n",
        "!pip install progress"
      ],
      "metadata": {
        "id": "LdYfLThVmVxQ"
      },
      "execution_count": null,
      "outputs": []
    },
    {
      "cell_type": "code",
      "execution_count": null,
      "metadata": {
        "id": "Pn6_5UDbPebG"
      },
      "outputs": [],
      "source": [
        "CONTENT_DIR = \"/content\"\n",
        "%cd {CONTENT_DIR}\n",
        "\n",
        "!git clone https://github.com/ndl-lab/ndltsr.git\n",
        "\n",
        "PROJECT_DIR=f\"/{CONTENT_DIR }/ndltsr\"\n",
        "\n",
        "%cd {PROJECT_DIR}\n",
        "\n",
        "!wget -nc https://lab.ndl.go.jp/dataset/ndltsrmodel/model_last.pth -P {PROJECT_DIR}/exp/ctdet_mid/train_wireless_ndl/\n",
        "!wget -nc https://lab.ndl.go.jp/dataset/ndltsrmodel/processor_last.pth -P {PROJECT_DIR}/exp/ctdet_mid/train_wireless_ndl/"
      ]
    },
    {
      "cell_type": "markdown",
      "source": [
        "## サーバの起動"
      ],
      "metadata": {
        "id": "c4sVgdWeb11i"
      }
    },
    {
      "cell_type": "code",
      "source": [
        "import subprocess\n",
        "import requests\n",
        "import time\n",
        "\n",
        "PORT = 8081\n",
        "invocations_url = f\"http://127.0.0.1:{PORT}/invocations\"\n",
        "\n",
        "%cd {PROJECT_DIR}/src\n",
        "\n",
        "# api.py をバックグランドで実行\n",
        "process = subprocess.Popen(['uvicorn', 'api:app', '--port', str(PORT)])\n",
        "\n",
        "# バックグランドプロセスが実行中であることを確認\n",
        "# print(\"api.py is running in the background...\")\n",
        "\n",
        "# バックグランドプロセスの終了を待つには、次の行のコメントを解除してください\n",
        "# process.wait()\n",
        "\n",
        "# 起動するまで待つ\n",
        "while True:\n",
        "  try:\n",
        "    time.sleep(3)\n",
        "    r = requests.get(f\"{invocations_url}\")\n",
        "    status_code = r.status_code\n",
        "    if status_code == 405:\n",
        "      break\n",
        "  except:\n",
        "    pass"
      ],
      "metadata": {
        "id": "cxdKXTyqRaD6"
      },
      "execution_count": null,
      "outputs": []
    },
    {
      "cell_type": "markdown",
      "source": [
        "## 推論の実行"
      ],
      "metadata": {
        "id": "VcZhhUDccA7V"
      }
    },
    {
      "cell_type": "code",
      "source": [
        "# @title サンプル画像のダウンロード\n",
        "img_path = \"/content/ndltsr/src/sample.jpg\" # @param {type:\"string\"}\n",
        "url = \"https://dl.ndl.go.jp/api/iiif/1046122/R0000005/1860,1370,1000,548/full/0/default.jpg\" # @param {type:\"string\"}\n",
        "\n",
        "!wget -O {img_path} {url}"
      ],
      "metadata": {
        "id": "6shJYnQ7ciOq"
      },
      "execution_count": null,
      "outputs": []
    },
    {
      "cell_type": "code",
      "source": [
        "import urllib.request\n",
        "import msgpack\n",
        "import json\n",
        "\n",
        "data = {}\n",
        "with open(img_path, \"rb\") as fp:\n",
        "    data[\"img\"] = fp.read()\n",
        "payload = msgpack.packb(data, use_bin_type=True)\n",
        "headers = {\n",
        "    \"Content-Type\": \"application/x-msgpack\",\n",
        "}\n",
        "req = urllib.request.Request(\n",
        "        f\"{invocations_url}\",\n",
        "    payload, headers\n",
        ")\n",
        "\n",
        "# リクエストを送信し、応答を受け取る\n",
        "with urllib.request.urlopen(req) as res:\n",
        "    # 応答をJSONとして読み取る\n",
        "    response_body = res.read()\n",
        "    response_data = json.loads(response_body)"
      ],
      "metadata": {
        "id": "dAKKl4t-TX4Y"
      },
      "execution_count": null,
      "outputs": []
    },
    {
      "cell_type": "markdown",
      "source": [
        "## 可視化"
      ],
      "metadata": {
        "id": "RU0FEI7zcEeq"
      }
    },
    {
      "cell_type": "code",
      "source": [
        "from PIL import Image, ImageDraw, ImageFont\n",
        "from IPython.display import display\n",
        "\n",
        "font_path = \"/usr/share/fonts/truetype/liberation/LiberationSans-Regular.ttf\"\n",
        "\n",
        "# 画像を読み込む（適切なパスに置き換える）\n",
        "image = Image.open(img_path)\n",
        "\n",
        "# RGBAモードをRGBに変換（透明度情報を破棄）\n",
        "if image.mode == 'RGBA':\n",
        "    image = image.convert('RGB')\n",
        "elif image.mode == \"P\":\n",
        "    image = image.convert('RGB')\n",
        "\n",
        "# ImageDraw オブジェクトを作成\n",
        "draw = ImageDraw.Draw(image)\n",
        "\n",
        "rectangles = response_data[\"center\"]\n",
        "logi_data = response_data[\"logi\"]\n",
        "\n",
        "# 各四角形と対応するlogiデータについて描画\n",
        "for rect, logi in zip(rectangles, logi_data):\n",
        "    # 四角形を描画\n",
        "    draw.polygon([tuple(point) for point in rect], outline='red')\n",
        "    # logiデータをテキストとして描画\n",
        "    # draw.text((rect[0][0], rect[0][1]), str(logi), fill=\"blue\", font=font)\n",
        "\n",
        "    # 四角形の幅を計算\n",
        "    width = max(rect, key=lambda x: x[0])[0] - min(rect, key=lambda x: x[0])[0]\n",
        "\n",
        "    # フォントサイズを幅に基づいて設定（例：幅の10%）\n",
        "    font_size = max(int(width * 0.10), 12)  # 最小フォントサイズを12とする\n",
        "    font = ImageFont.truetype(font_path, font_size)\n",
        "\n",
        "    # logiデータをテキストとして描画\n",
        "    text_position = (rect[0][0], rect[0][1] - font_size)  # テキスト位置を調整\n",
        "    draw.text(text_position, str(logi), fill=\"blue\", font=font)\n",
        "\n",
        "# 変更を保存\n",
        "image.save('output_image.jpg')\n",
        "image.show()\n",
        "\n",
        "display(image)"
      ],
      "metadata": {
        "id": "KsZAdNnFcOCO"
      },
      "execution_count": null,
      "outputs": []
    },
    {
      "cell_type": "markdown",
      "source": [
        "## その他"
      ],
      "metadata": {
        "id": "4RqTP8QUcGnC"
      }
    },
    {
      "cell_type": "code",
      "source": [
        "import os\n",
        "import json\n",
        "import numpy as np\n",
        "from io import BytesIO\n",
        "from PIL import Image\n",
        "import base64\n",
        "import re\n",
        "import logging\n",
        "import urllib\n",
        "import msgpack\n",
        "import json\n",
        "import pandas as pd\n",
        "import requests\n",
        "\n",
        "def download_file(url, dst_path):\n",
        "    try:\n",
        "        with urllib.request.urlopen(url) as web_file:\n",
        "            data = web_file.read()\n",
        "            with open(dst_path, mode='wb') as local_file:\n",
        "                local_file.write(data)\n",
        "    except urllib.error.URLError as e:\n",
        "        print(e)\n",
        "def check_iou(a, b,thr=0.6):\n",
        "    \"\"\"\n",
        "    a: [xmin, ymin, xmax, ymax]\n",
        "    b: [xmin, ymin, xmax, ymax]\n",
        "\n",
        "    return: array(iou)\n",
        "    \"\"\"\n",
        "    b = np.asarray(b)\n",
        "    a_area = (a[  2] - a[  0]) * (a[  3] - a[  1])\n",
        "    b_area = (b[  2] - b[  0]) * (b[  3] - b[  1])\n",
        "    intersection_xmin = np.maximum(a[0], b[0])\n",
        "    intersection_ymin = np.maximum(a[1], b[1])\n",
        "    intersection_xmax = np.minimum(a[2], b[2])\n",
        "    intersection_ymax = np.minimum(a[3], b[3])\n",
        "    intersection_w = np.maximum(0, intersection_xmax - intersection_xmin)\n",
        "    intersection_h = np.maximum(0, intersection_ymax - intersection_ymin)\n",
        "    intersection_area = intersection_w * intersection_h\n",
        "    min_area=min(a_area,b_area)\n",
        "    if intersection_area/min_area>thr:\n",
        "        return True\n",
        "    return False\n",
        "\n",
        "def tdcreate(rpos,cpos,flagmap,text):\n",
        "    rowsize,colsize=flagmap.shape\n",
        "    tmpid=flagmap[rpos,cpos]\n",
        "    deltac=0\n",
        "    deltar=0\n",
        "    for ct in range(cpos,colsize):\n",
        "       if flagmap[rpos,ct]==tmpid:\n",
        "            deltac+=1\n",
        "       else:\n",
        "            break\n",
        "    for rt in range(rpos,rowsize):\n",
        "        if flagmap[rt,cpos]==tmpid:\n",
        "            deltar+=1\n",
        "        else:\n",
        "            break\n",
        "    if deltac==1 and deltar==1:\n",
        "        return '<td>{}</td>'.format(text)\n",
        "    else:\n",
        "        return '<td colspan=\"{}\" rowspan=\"{}\">{}</td>'.format(deltac,deltar,text)\n",
        "\n",
        "def extractfromocr(coordobj,rectminx,rectminy):\n",
        "    resobj=[]\n",
        "    tmpobj=[]\n",
        "    for obj in coordobj:\n",
        "        dubflag=False\n",
        "        xmin = int(obj[\"xmin\"])-int(rectminx)\n",
        "        ymin = int(obj[\"ymin\"])-int(rectminy)\n",
        "        xmax = int(obj[\"xmax\"])-int(rectminx)\n",
        "        ymax = int(obj[\"ymax\"])-int(rectminy)\n",
        "        if xmin>xmax:\n",
        "            xmin,xmax=xmax,xmin\n",
        "        if ymin>ymax:\n",
        "            ymin,ymax=ymax,ymin\n",
        "        bbox=[xmin,ymin,xmax,ymax]\n",
        "        for tmp in tmpobj:\n",
        "            if check_iou(bbox,tmp,thr=0.95):\n",
        "                dubflag=True\n",
        "                break\n",
        "        if dubflag:\n",
        "            continue\n",
        "        tmpobj.append(bbox)\n",
        "        text=obj[\"contenttext\"]\n",
        "        resobj.append({\"bbox\":bbox,\"text\":text})\n",
        "    resobj=sorted(resobj, key=lambda x: x['bbox'][1])\n",
        "    resobj=sorted(resobj, key=lambda x: x['bbox'][0])\n",
        "    return resobj\n",
        "\n",
        "def dupmerge(conv_atrobjlist,textbboxlist):\n",
        "    #まずloreの出力をきれいにする\n",
        "    newconv_atrobjlist=[]\n",
        "    used=set()\n",
        "    for idx1 in range(len(conv_atrobjlist)):\n",
        "        if idx1 in used:\n",
        "            continue\n",
        "        bbox1=conv_atrobjlist[idx1][4]\n",
        "        lbox1=conv_atrobjlist[idx1][:4]\n",
        "        for idx2 in range(idx1+1,len(conv_atrobjlist)):\n",
        "            bbox2=conv_atrobjlist[idx2][4]\n",
        "            lbox2=conv_atrobjlist[idx2][:4]\n",
        "            if check_iou(bbox1,bbox2):\n",
        "                used.add(idx2)\n",
        "                bbox1=[min(bbox1[0],bbox2[0]),min(bbox1[1],bbox2[1]),max(bbox1[2],bbox2[2]),max(bbox1[3],bbox2[3])]\n",
        "                lbox1=[min(lbox1[0],lbox2[0]),min(lbox1[1],lbox2[1]),max(lbox1[2],lbox2[2]),max(lbox1[3],lbox2[3])]\n",
        "        newconv_atrobjlist.append([lbox1,bbox1])\n",
        "    #textboxとマージする\n",
        "    reslist=[]\n",
        "    for idx1 in range(len(newconv_atrobjlist)):\n",
        "        bbox1=newconv_atrobjlist[idx1][1]\n",
        "        lbox1=newconv_atrobjlist[idx1][0]\n",
        "        restext=\"\"\n",
        "        for textobj in textbboxlist:\n",
        "            bboxt=textobj[\"bbox\"]\n",
        "            text=textobj[\"text\"]\n",
        "            if check_iou(bbox1,bboxt,0.1):\n",
        "                restext+=text\n",
        "        lbox1.append(restext)\n",
        "        reslist.append(lbox1)\n",
        "    return reslist\n",
        "def extractfromlore(resultobj,textbboxlist):\n",
        "    bndobjlist=[]\n",
        "    atrobjlist=[]\n",
        "    axis_set_row=set()\n",
        "    axis_set_col=set()\n",
        "    for bndobj,logiobj in zip(resultobj[\"center\"],resultobj[\"logi\"]):\n",
        "        xmin = int(min([bndobj[0][0],bndobj[1][0],bndobj[2][0],bndobj[3][0]]))\n",
        "        ymin = int(min([bndobj[0][1],bndobj[1][1],bndobj[2][1],bndobj[3][1]]))\n",
        "        xmax = int(max([bndobj[0][0],bndobj[1][0],bndobj[2][0],bndobj[3][0]]))\n",
        "        ymax = int(max([bndobj[0][1],bndobj[1][1],bndobj[2][1],bndobj[3][1]]))\n",
        "        bbox=[xmin,ymin,xmax,ymax]\n",
        "        bndobjlist.append(bbox)\n",
        "        rowmin,rowmax,colmin,colmax=None,None,None,None\n",
        "        rowmin = int(logiobj[0])\n",
        "        rowmax = int(logiobj[1])\n",
        "        colmin = int(logiobj[2])\n",
        "        colmax = int(logiobj[3])\n",
        "        if rowmin>rowmax:\n",
        "            rowmin,rowmax=rowmax,rowmin\n",
        "        if colmin>colmax:\n",
        "            colmin,colmax=colmax,colmin\n",
        "        axis_set_row.add(rowmin)\n",
        "        axis_set_row.add(rowmax)\n",
        "        axis_set_col.add(colmin)\n",
        "        axis_set_col.add(colmax)\n",
        "        atrobjlist.append([rowmin,rowmax,colmin,colmax])\n",
        "    col2idx={}\n",
        "    row2idx={}\n",
        "    for idx,colval in enumerate(sorted(axis_set_col)):\n",
        "        col2idx[colval]=idx\n",
        "    for idx,rowval in enumerate(sorted(axis_set_row)):\n",
        "        row2idx[rowval]=idx\n",
        "\n",
        "    conv_atrobjlist=[]\n",
        "\n",
        "    for idx,(rowmin,rowmax,colmin,colmax) in enumerate(atrobjlist):\n",
        "        conv_atrobjlist.append([row2idx[rowmin],row2idx[rowmax],col2idx[colmin],col2idx[colmax],bndobjlist[idx]])\n",
        "\n",
        "    conv_atrobjlist=dupmerge(conv_atrobjlist,textbboxlist)\n",
        "    sorted_data = sorted(conv_atrobjlist, key=lambda x: (x[0], x[2], x[1], x[3]))\n",
        "\n",
        "    colsize=len(col2idx)\n",
        "    rowsize = len(row2idx)\n",
        "    targetcolcnt={}\n",
        "    for ii in range(rowsize+1):\n",
        "        targetcolcnt[ii]=colsize\n",
        "    tablestr='<table  border=\"1\"><tr>'\n",
        "    currentrow=0\n",
        "    currentcol=0\n",
        "    flagmap=np.zeros((rowsize+1,colsize+1))-1\n",
        "    tmpid2text={}\n",
        "    for tmpidx, (rowmin, rowmax, colmin, colmax,text) in enumerate(sorted_data):\n",
        "        for r in range(rowmin,rowmax+1):\n",
        "            for c in range(colmin,colmax+1):\n",
        "                flagmap[r,c]=tmpidx\n",
        "        tmpid2text[tmpidx]=text\n",
        "    #print(flagmap)\n",
        "    tmpidxset=set()\n",
        "    for r in range(rowsize):\n",
        "        tablestr+=\"</tr><tr>\"\n",
        "        for c in range(colsize):\n",
        "            if flagmap[r,c]==-1:\n",
        "                tablestr += '<td></td>'\n",
        "            elif flagmap[r,c] in tmpidxset:\n",
        "                continue\n",
        "            else:\n",
        "                tmpidxset.add(flagmap[r,c])\n",
        "                tablestr += tdcreate(r,c,flagmap,tmpid2text[flagmap[r,c]])\n",
        "    tablestr+=\"</tr></table>\"\n",
        "    return tablestr"
      ],
      "metadata": {
        "id": "_ZU0rUa0RdNx"
      },
      "execution_count": null,
      "outputs": []
    },
    {
      "cell_type": "code",
      "source": [
        "textbboxlist = []\n",
        "tablestr=extractfromlore(response_data, textbboxlist)\n",
        "\n",
        "# dfs=pd.read_html(tablestr)\n",
        "# df=dfs[0]\n",
        "# tsv_string = df.to_csv(index=None,header = False,sep=\"\\t\")\n",
        "\n",
        "from IPython.display import HTML\n",
        "HTML(tablestr)"
      ],
      "metadata": {
        "id": "HU33sAsWUyRQ"
      },
      "execution_count": null,
      "outputs": []
    }
  ]
}