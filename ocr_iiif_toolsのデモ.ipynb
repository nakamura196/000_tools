{
  "nbformat": 4,
  "nbformat_minor": 0,
  "metadata": {
    "colab": {
      "provenance": [],
      "private_outputs": true,
      "authorship_tag": "ABX9TyO5MkBZfUiCx0o8SNNrOIps",
      "include_colab_link": true
    },
    "kernelspec": {
      "name": "python3",
      "display_name": "Python 3"
    },
    "language_info": {
      "name": "python"
    }
  },
  "cells": [
    {
      "cell_type": "markdown",
      "metadata": {
        "id": "view-in-github",
        "colab_type": "text"
      },
      "source": [
        "<a href=\"https://colab.research.google.com/github/nakamura196/000_tools/blob/main/ocr_iiif_tools%E3%81%AE%E3%83%87%E3%83%A2.ipynb\" target=\"_parent\"><img src=\"https://colab.research.google.com/assets/colab-badge.svg\" alt=\"Open In Colab\"/></a>"
      ]
    },
    {
      "cell_type": "markdown",
      "source": [
        "# ocr_iiif_toolsのデモ"
      ],
      "metadata": {
        "id": "WOlyoCO1c52u"
      }
    },
    {
      "cell_type": "markdown",
      "source": [
        "## セットアップ"
      ],
      "metadata": {
        "id": "S0EbNiuGc8lf"
      }
    },
    {
      "cell_type": "code",
      "execution_count": null,
      "metadata": {
        "id": "WuM90fq5byBN"
      },
      "outputs": [],
      "source": [
        "!pip install ocr_iiif_tools==0.0.1"
      ]
    },
    {
      "cell_type": "markdown",
      "source": [
        "## マニフェストファイルのアップロード"
      ],
      "metadata": {
        "id": "Gz-K8nBvc_57"
      }
    },
    {
      "cell_type": "code",
      "source": [
        "from google.colab import files\n",
        "uploaded = files.upload()\n",
        "filename = next(iter(uploaded))\n",
        "!mv {filename} manifest.json"
      ],
      "metadata": {
        "id": "0S8bjR3Ub0Bc"
      },
      "execution_count": null,
      "outputs": []
    },
    {
      "cell_type": "markdown",
      "source": [
        "## Google OCR結果のアップロード"
      ],
      "metadata": {
        "id": "QICq7OIzdCVg"
      }
    },
    {
      "cell_type": "code",
      "source": [
        "uploaded = files.upload()\n",
        "filename = next(iter(uploaded))\n",
        "!mv {filename} ocr.json"
      ],
      "metadata": {
        "id": "nk6aWqB6cVPf"
      },
      "execution_count": null,
      "outputs": []
    },
    {
      "cell_type": "markdown",
      "source": [
        "## 設定"
      ],
      "metadata": {
        "id": "lvT8xK3HdIfd"
      }
    },
    {
      "cell_type": "code",
      "source": [
        "canvas_uri = \"https://data.ucd.ie/api/img/ucdlib:33064/canvas/ucdlib:33543\"\n",
        "\n",
        "output_dir = \"data/pj1\"\n",
        "\n",
        "output_annolist_path = f\"{output_dir}/annolist.json\"\n",
        "output_manifest_path = f\"{output_dir}/mod.json\""
      ],
      "metadata": {
        "id": "G-xWl5KYcoyj"
      },
      "execution_count": null,
      "outputs": []
    },
    {
      "cell_type": "code",
      "source": [
        "from ocr_iiif_tools.core import *\n",
        "\n",
        "gcv_path = \"ocr.json\"\n",
        "manifest_path = \"manifest.json\"\n",
        "\n",
        "# 初期化\n",
        "c = Client(canvas_uri, gcv_path, manifest_path, output_annolist_path, output_manifest_path)\n",
        "\n",
        "# アノテーションリストの作成\n",
        "c.create_annotation_list()"
      ],
      "metadata": {
        "id": "YB9k4A4ncgwh"
      },
      "execution_count": null,
      "outputs": []
    },
    {
      "cell_type": "markdown",
      "source": [
        "gistなどを使用して、出力されたアノテーションリストをURLを介してアクセスできるようにする。"
      ],
      "metadata": {
        "id": "NjXKeExIdP-N"
      }
    },
    {
      "cell_type": "markdown",
      "source": [
        "## アノテーションリスト付きのマニフェストファイルを作成する。"
      ],
      "metadata": {
        "id": "wWWlwuw5daXn"
      }
    },
    {
      "cell_type": "code",
      "source": [
        "annolist_url = \"https://gist.githubusercontent.com/nakamura196/0027bd2d10228146315e791439940903/raw/5959a5fb1034c2aba21e56572980b239bce97ed3/test.json\"\n",
        "c.create_manifest(annolist_url)"
      ],
      "metadata": {
        "id": "eyhaJbuwcvLz"
      },
      "execution_count": null,
      "outputs": []
    }
  ]
}