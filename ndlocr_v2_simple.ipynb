{
  "cells": [
    {
      "cell_type": "markdown",
      "metadata": {
        "id": "view-in-github",
        "colab_type": "text"
      },
      "source": [
        "<a href=\"https://colab.research.google.com/github/nakamura196/000_tools/blob/main/ndlocr_v2_simple.ipynb\" target=\"_parent\"><img src=\"https://colab.research.google.com/assets/colab-badge.svg\" alt=\"Open In Colab\"/></a>"
      ]
    },
    {
      "cell_type": "markdown",
      "metadata": {
        "id": "X3I17DDT9ggb"
      },
      "source": [
        "# <font color=\"orange\">NDLOCR（ver.2.1）の実行例（シンプル版）</font>\n",
        "\n",
        "本ノートブックのライセンス： <img src=\"http://i.creativecommons.org/p/zero/1.0/88x31.png\" style=\"border-style: none;\" alt=\"CC0\" />\n",
        "\n",
        "<br/>\n",
        "\n",
        "NDL OCRの説明: https://github.com/ndl-lab/ndlocr_cli\n",
        "\n",
        "<br/>\n",
        "\n",
        "\n",
        "## 参考にしたノートブック\n",
        "\n",
        "@blue0620 さんが作成したノートブック\n",
        "\n",
        "https://github.com/blue0620/NDLOCR-GoogleColabVersion/blob/main/NDLOCRv2_googlecolabversion.ipynb"
      ]
    },
    {
      "cell_type": "markdown",
      "source": [
        "## 1:初期セットアップ\n",
        "\n",
        "少し時間がかかります。初回のみ実行が必要です。"
      ],
      "metadata": {
        "id": "bUUvDHnh9mVl"
      }
    },
    {
      "cell_type": "code",
      "execution_count": null,
      "metadata": {
        "id": "GgcHqHsqsUxq",
        "cellView": "form"
      },
      "outputs": [],
      "source": [
        "#@title セットアップ\n",
        "\n",
        "import yaml\n",
        "from google.colab import drive\n",
        "from IPython.display import clear_output\n",
        "\n",
        "CONTENT_DIR = \"/content\"\n",
        "\n",
        "# Google Drive関連\n",
        "drive.mount(f'{CONTENT_DIR}/drive/')\n",
        "\n",
        "###\n",
        "\n",
        "!pip install torch==2.0.1+cu118 torchvision==0.15.2+cu118 torchaudio==2.0.2 torchtext==0.15.2 --index-url https://download.pytorch.org/whl/cu118\n",
        "\n",
        "%cd {CONTENT_DIR}\n",
        "\n",
        "# !nvidia-smi\n",
        "# !pip list | grep torch\n",
        "!git clone --recursive https://github.com/ndl-lab/ndlocr_cli -b feature/colab\n",
        "# #2. 必要なパッケージをインストールする\n",
        "PROJECT_DIR=f\"{CONTENT_DIR}/ndlocr_cli\"\n",
        "# !pip install -r {PROJECT_DIR}/requirements.txt # コメントアウト\n",
        "\n",
        "!pip install hydra-colorlog\n",
        "!pip install hydra-core\n",
        "!pip install mmcls==1.0.0rc6\n",
        "!pip install pytorch-lightning==1.6.5\n",
        "!pip install datasets\n",
        "\n",
        "!pip install mmcv==2.0.0 -f https://download.openmmlab.com/mmcv/dist/cu118/torch2.0/index.html\n",
        "\n",
        "!pip install torchmetrics==0.11.4\n",
        "\n",
        "%cd {PROJECT_DIR}/submodules/ndl_layout\n",
        "!git clone https://github.com/open-mmlab/mmdetection.git -b v3.0.0\n",
        "%cd {PROJECT_DIR}/submodules/ndl_layout/mmdetection\n",
        "#下行はGPUのメモリ不足になった場合にコメントアウトを外すとよい。\n",
        "!sed -i -e 's/GPU_MEM_LIMIT = 1024\\*\\*3/GPU_MEM_LIMIT = 1024\\*\\*3\\/\\/5/' mmdet/models/roi_heads/mask_heads/fcn_mask_head.py\n",
        "!python setup.py bdist_wheel\n",
        "!pip install dist/*.whl\n",
        "\n",
        "# # 4. OCRに必要な学習済みモデルをダウンロードする\n",
        "%cd {PROJECT_DIR}\n",
        "!wget -nc https://lab.ndl.go.jp/dataset/ndlocr_v2/text_recognition_lightning/resnet-orient2.ckpt -P ./submodules/text_recognition_lightning/models\n",
        "!wget -nc https://lab.ndl.go.jp/dataset/ndlocr_v2/text_recognition_lightning/rf_author/model.pkl -P ./submodules/text_recognition_lightning/models/rf_author/\n",
        "!wget -nc https://lab.ndl.go.jp/dataset/ndlocr_v2/text_recognition_lightning/rf_title/model.pkl -P ./submodules/text_recognition_lightning/models/rf_title/\n",
        "!wget -nc https://lab.ndl.go.jp/dataset/ndlocr_v2/ndl_layout/ndl_retrainmodel.pth -P ./submodules/ndl_layout/models\n",
        "!wget -nc https://lab.ndl.go.jp/dataset/ndlocr_v2/separate_pages_mmdet/epoch_180.pth -P ./submodules/separate_pages_mmdet/models\n",
        "\n",
        "def disable_ruby_reading_in_config():\n",
        "  # 設定ファイル内でルビ読みを無効にします。\n",
        "  config_path = f'{PROJECT_DIR}/config.yml'\n",
        "\n",
        "  with open(config_path) as file:\n",
        "      config = yaml.safe_load(file)\n",
        "      config[\"ruby_read\"] = False\n",
        "\n",
        "      with open(config_path, 'w') as file:\n",
        "        yaml.dump(config, file)\n",
        "\n",
        "disable_ruby_reading_in_config()\n",
        "\n",
        "clear_output()"
      ]
    },
    {
      "cell_type": "markdown",
      "source": [
        "## 2:OCRのみ\n",
        "\n",
        "`xml`と`img`を含むフォルダを用意し、`s`引数に`i`を与えます。\n",
        "\n",
        "https://github.com/ndl-lab/ndlocr_cli?tab=readme-ov-file#%E5%85%A5%E5%8A%9B%E3%83%87%E3%82%A3%E3%83%AC%E3%82%AF%E3%83%88%E3%83%AA%E3%81%AB%E3%81%A4%E3%81%84%E3%81%A6"
      ],
      "metadata": {
        "id": "9HtDp6d3SBld"
      }
    },
    {
      "cell_type": "code",
      "source": [
        "# Googleドライブ上のzipファイルを、ディスク上に解凍する\n",
        "!unzip /content/drive/MyDrive/ndlocr_v2/input/head.zip -d /content/"
      ],
      "metadata": {
        "id": "6mFR-M1PRabC"
      },
      "execution_count": null,
      "outputs": []
    },
    {
      "cell_type": "code",
      "source": [
        "%cd /content/ndlocr_cli/"
      ],
      "metadata": {
        "id": "cglzqGTfSGQw"
      },
      "execution_count": null,
      "outputs": []
    },
    {
      "cell_type": "code",
      "source": [
        "# OCRの実行\n",
        "!python main.py infer /content/head /content/output/head -s i -p 3"
      ],
      "metadata": {
        "id": "fcg_MVn-rGFn"
      },
      "execution_count": null,
      "outputs": []
    },
    {
      "cell_type": "code",
      "source": [
        "# 出力結果をディスク上に圧縮する\n",
        "!zip -r ../head.zip ../output"
      ],
      "metadata": {
        "id": "MildyGS3qolg"
      },
      "execution_count": null,
      "outputs": []
    },
    {
      "cell_type": "code",
      "source": [
        "# 圧縮したファイルをGoogleドライブにコピーする\n",
        "!cp /content/head.zip /content/drive/MyDrive/ndlocr_v2/output/"
      ],
      "metadata": {
        "id": "1eI8AQOprFFg"
      },
      "execution_count": null,
      "outputs": []
    },
    {
      "cell_type": "markdown",
      "source": [
        "## 3:レイアウトとOCR\n",
        "\n",
        "`img`を含むフォルダを用意し、`s`引数に`s`を与えます。\n",
        "\n",
        "https://github.com/ndl-lab/ndlocr_cli?tab=readme-ov-file#%E5%85%A5%E5%8A%9B%E3%83%87%E3%82%A3%E3%83%AC%E3%82%AF%E3%83%88%E3%83%AA%E3%81%AB%E3%81%A4%E3%81%84%E3%81%A6"
      ],
      "metadata": {
        "id": "BdvFwmXKSDLz"
      }
    },
    {
      "cell_type": "code",
      "source": [
        "# Googleドライブ上のzipファイルを、ディスク上に解凍する\n",
        "!unzip /content/drive/MyDrive/ndlocr_v2/input/text.zip -d /content/"
      ],
      "metadata": {
        "id": "aEiLoLzjSaTH"
      },
      "execution_count": null,
      "outputs": []
    },
    {
      "cell_type": "code",
      "source": [
        "%cd /content/ndlocr_cli/"
      ],
      "metadata": {
        "id": "Deh2eZ6ZSPxe"
      },
      "execution_count": null,
      "outputs": []
    },
    {
      "cell_type": "code",
      "source": [
        "# OCRの実行\n",
        "!python main.py infer /content/text /content/output/text -s s -p 2..3"
      ],
      "metadata": {
        "id": "mhzQPnLzSf_5"
      },
      "execution_count": null,
      "outputs": []
    }
  ],
  "metadata": {
    "accelerator": "GPU",
    "colab": {
      "provenance": [],
      "private_outputs": true,
      "gpuType": "T4",
      "include_colab_link": true
    },
    "kernelspec": {
      "display_name": "Python 3",
      "name": "python3"
    },
    "language_info": {
      "name": "python"
    }
  },
  "nbformat": 4,
  "nbformat_minor": 0
}