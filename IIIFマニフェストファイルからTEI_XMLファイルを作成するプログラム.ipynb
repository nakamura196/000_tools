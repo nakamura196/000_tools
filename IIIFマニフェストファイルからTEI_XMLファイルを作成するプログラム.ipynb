{
  "nbformat": 4,
  "nbformat_minor": 0,
  "metadata": {
    "colab": {
      "private_outputs": true,
      "provenance": [],
      "authorship_tag": "ABX9TyPhG7BBRGLl/nxwseD7ZyK+",
      "include_colab_link": true
    },
    "kernelspec": {
      "name": "python3",
      "display_name": "Python 3"
    },
    "language_info": {
      "name": "python"
    }
  },
  "cells": [
    {
      "cell_type": "markdown",
      "metadata": {
        "id": "view-in-github",
        "colab_type": "text"
      },
      "source": [
        "<a href=\"https://colab.research.google.com/github/nakamura196/000_tools/blob/main/IIIF%E3%83%9E%E3%83%8B%E3%83%95%E3%82%A7%E3%82%B9%E3%83%88%E3%83%95%E3%82%A1%E3%82%A4%E3%83%AB%E3%81%8B%E3%82%89TEI_XML%E3%83%95%E3%82%A1%E3%82%A4%E3%83%AB%E3%82%92%E4%BD%9C%E6%88%90%E3%81%99%E3%82%8B%E3%83%97%E3%83%AD%E3%82%B0%E3%83%A9%E3%83%A0.ipynb\" target=\"_parent\"><img src=\"https://colab.research.google.com/assets/colab-badge.svg\" alt=\"Open In Colab\"/></a>"
      ]
    },
    {
      "cell_type": "markdown",
      "source": [
        "# IIIFマニフェストファイルからTEI/XMLファイルを作成するプログラム\n",
        "\n",
        "IIIFマニフェストファイルのURLを指定して、NDL古典籍OCR-LiteによるOCR結果を含むTEI/XMLファイルを作成します。"
      ],
      "metadata": {
        "id": "inAt0nG5HFWb"
      }
    },
    {
      "cell_type": "code",
      "execution_count": null,
      "metadata": {
        "cellView": "form",
        "id": "9KdON4qczIW9"
      },
      "outputs": [],
      "source": [
        "# @title 準備\n",
        "\n",
        "%cd /content\n",
        "!rm -rf genji_ocr\n",
        "!git clone https://github.com/nakamura196/genji_ocr\n",
        "\n",
        "%cd genji_ocr\n",
        "\n",
        "!git clone https://github.com/ndl-lab/ndlkotenocr-lite\n",
        "\n",
        "!pip install -qr ndlkotenocr-lite/requirements.txt\n",
        "\n",
        "from genji_ocr.core import CoreClient\n",
        "client = CoreClient()"
      ]
    },
    {
      "cell_type": "code",
      "source": [
        "# @title 実行\n",
        "manifest_url = \"https://kokusho.nijl.ac.jp/biblio/100421273/manifest\" # @param {\"type\":\"string\"}\n",
        "output_dir = \"/content/data/nijl-100421273\" # @param {\"type\":\"string\"}\n",
        "\n",
        "# manifest_url = \"https://kokusho.nijl.ac.jp/biblio/100421273/manifest\"\n",
        "# id = \"nijl-100421273\"\n",
        "# output_dir = f\"./tmp/data4/{id}\"\n",
        "\n",
        "CoreClient.main(manifest_url, output_dir, \"/content/genji_ocr/ndlkotenocr-lite/src\")"
      ],
      "metadata": {
        "id": "XTJAxreCzs_9",
        "cellView": "form"
      },
      "execution_count": null,
      "outputs": []
    }
  ]
}