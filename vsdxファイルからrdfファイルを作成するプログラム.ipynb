{
  "nbformat": 4,
  "nbformat_minor": 0,
  "metadata": {
    "colab": {
      "private_outputs": true,
      "provenance": [],
      "authorship_tag": "ABX9TyMm5eSAeysXtWRem9aMviur",
      "include_colab_link": true
    },
    "kernelspec": {
      "name": "python3",
      "display_name": "Python 3"
    },
    "language_info": {
      "name": "python"
    }
  },
  "cells": [
    {
      "cell_type": "markdown",
      "metadata": {
        "id": "view-in-github",
        "colab_type": "text"
      },
      "source": [
        "<a href=\"https://colab.research.google.com/github/nakamura196/000_tools/blob/main/vsdx%E3%83%95%E3%82%A1%E3%82%A4%E3%83%AB%E3%81%8B%E3%82%89rdf%E3%83%95%E3%82%A1%E3%82%A4%E3%83%AB%E3%82%92%E4%BD%9C%E6%88%90%E3%81%99%E3%82%8B%E3%83%97%E3%83%AD%E3%82%B0%E3%83%A9%E3%83%A0.ipynb\" target=\"_parent\"><img src=\"https://colab.research.google.com/assets/colab-badge.svg\" alt=\"Open In Colab\"/></a>"
      ]
    },
    {
      "cell_type": "markdown",
      "source": [
        "## 概要\n",
        "\n",
        "vsdxファイルからrdfファイルを作成するプログラム"
      ],
      "metadata": {
        "id": "NvkNLHpkN2Tx"
      }
    },
    {
      "cell_type": "code",
      "execution_count": null,
      "metadata": {
        "id": "Pl4UIEZeMnF4"
      },
      "outputs": [],
      "source": [
        "# @title 初期設定\n",
        "!pip install -U git+https://github.com/nakamura196/vsdx-rdf.git@74872e022e02ce869a71d5495ccb7e51eb8a69b0\n",
        "\n",
        "from vsdx_rdf.core import Client\n",
        "\n",
        "# サンプルデータのダウンロード\n",
        "!wget https://github.com/nakamura196/vsdx-rdf/raw/main/nbs/data/input/sample/ex.vsdx"
      ]
    },
    {
      "cell_type": "code",
      "source": [
        "# @title 実行\n",
        "INPUT_FILE = \"/content/ex.vsdx\" # @param {type:\"string\"}\n",
        "OUTPUT_FILE = \"/content/output\" # @param {type:\"string\"}\n",
        "\n",
        "Client.convert(INPUT_FILE, OUTPUT_FILE, is_download=True)"
      ],
      "metadata": {
        "id": "C35tj92ZM2On"
      },
      "execution_count": null,
      "outputs": []
    }
  ]
}